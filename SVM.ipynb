{
 "cells": [
  {
   "cell_type": "code",
   "execution_count": 1,
   "metadata": {},
   "outputs": [],
   "source": [
    "def train(in_c, in_gamma, in_kernel):\n",
    "    import seaborn as sns\n",
    "    from sklearn.svm import SVC\n",
    "    from sklearn.model_selection import train_test_split\n",
    "    from sklearn import metrics\n",
    "    from sklearn.datasets import load_iris\n",
    "    \n",
    "    import mlflow\n",
    "    import mlflow.sklearn\n",
    "\n",
    "    #Split data into features and target\n",
    "    iris = load_iris()\n",
    "    X = iris.data\n",
    "    y = iris.target\n",
    "\n",
    "    #Split data into test and train data\n",
    "    X_train, X_test, y_train, y_test = train_test_split(X, y, test_size=0.30)\n",
    "    \n",
    "    # Set default values if no n is provided\n",
    "    if float(in_c) is None:\n",
    "        c = 1\n",
    "    else:\n",
    "        c = float(in_c)\n",
    "        \n",
    "    if float(in_gamma) is None:\n",
    "        gamma = 1\n",
    "    else:\n",
    "        gamma = float(in_gamma)\n",
    "        \n",
    "    if in_kernel is None:\n",
    "        kernel = 'rbf'\n",
    "    else:\n",
    "        kernel = in_kernel\n",
    "    \n",
    "    with mlflow.start_run():\n",
    "        \n",
    "        #Create SVC model\n",
    "        svc_model = SVC(C=in_c, kernel=in_kernel, gamma=in_gamma)\n",
    "\n",
    "        #Train the model\n",
    "        svc_model.fit(X_train,y_train)\n",
    "\n",
    "        #Predict\n",
    "        predictions = svc_model.predict(X_test)\n",
    "        \n",
    "        #Compare prediction to actual data and calculate the accuracy\n",
    "        accuracy = metrics.accuracy_score(y_test, predictions)\n",
    "        precision =  metrics.precision_score(y_test, predictions, average = 'micro')\n",
    "        recall = metrics.recall_score(y_true = y_test, y_pred = predictions, average = 'weighted')\n",
    "        f1_score = metrics.f1_score(y_true = y_test, y_pred = predictions, average = 'micro')\n",
    "        \n",
    "         #Log parameter, metrics, and model to MLflow\n",
    "        mlflow.log_param(\"c\", c)\n",
    "        mlflow.log_param(\"gamma\", gamma)\n",
    "        mlflow.log_param(\"kernel\", kernel)\n",
    "        mlflow.log_metric(\"accuracy\", accuracy)\n",
    "        mlflow.log_metric(\"recall\", recall)\n",
    "        mlflow.log_metric(\"precision\", precision)\n",
    "        mlflow.log_metric('f1', f1_score)\n",
    "        \n",
    "        #Log the model\n",
    "        mlflow.sklearn.log_model(svc_model, \"model\")\n",
    "\n"
   ]
  },
  {
   "cell_type": "code",
   "execution_count": 2,
   "metadata": {},
   "outputs": [],
   "source": [
    "c_list = [0.1,1, 10, 100]\n",
    "gamma_list = [1,0.1,0.01,0.001]\n",
    "kernel_list = ['rbf', 'poly', 'sigmoid']"
   ]
  },
  {
   "cell_type": "code",
   "execution_count": 3,
   "metadata": {},
   "outputs": [],
   "source": [
    "for x in c_list:\n",
    "    for y in gamma_list:\n",
    "        for z in kernel_list:\n",
    "            train(x, y, z)"
   ]
  },
  {
   "cell_type": "code",
   "execution_count": null,
   "metadata": {},
   "outputs": [],
   "source": []
  }
 ],
 "metadata": {
  "kernelspec": {
   "display_name": "Python 3",
   "language": "python",
   "name": "python3"
  },
  "language_info": {
   "codemirror_mode": {
    "name": "ipython",
    "version": 3
   },
   "file_extension": ".py",
   "mimetype": "text/x-python",
   "name": "python",
   "nbconvert_exporter": "python",
   "pygments_lexer": "ipython3",
   "version": "3.7.0"
  }
 },
 "nbformat": 4,
 "nbformat_minor": 2
}
