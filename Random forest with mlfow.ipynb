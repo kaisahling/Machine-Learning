{
 "cells": [
  {
   "cell_type": "code",
   "execution_count": 4,
   "metadata": {},
   "outputs": [],
   "source": [
    "def train(in_n, in_criterion, in_max_depth):    \n",
    "    from sklearn.datasets import load_breast_cancer\n",
    "    import pandas as pd\n",
    "    import numpy as np\n",
    "    from sklearn.model_selection import train_test_split\n",
    "    from sklearn.ensemble import RandomForestClassifier\n",
    "    from sklearn import metrics\n",
    "    import time\n",
    "    \n",
    "    import mlflow\n",
    "    import mlflow.sklearn\n",
    "    \n",
    "    #Load the data\n",
    "    breast_cancer = load_breast_cancer()\n",
    "    \n",
    "    #Split data into features and target\n",
    "    X = breast_cancer.data\n",
    "    y = breast_cancer.target\n",
    "    \n",
    "    #Split datea into test data and training data\n",
    "    X_train, X_test, y_train, y_test = train_test_split(X, y, test_size=0.30, random_state=101)\n",
    "    \n",
    "    #n = number of trees in the forest\n",
    "    if float(in_n) is None:\n",
    "        n = 100\n",
    "    else:\n",
    "        n = in_n\n",
    "    \n",
    "    # depth of a tree\n",
    "    if in_max_depth is None:\n",
    "        max_depth = None\n",
    "    else:\n",
    "        max_depth = in_max_depth\n",
    "     \n",
    "    # function to measure the quality of the split\n",
    "    if in_criterion is None:\n",
    "        criterion = 'gini'\n",
    "    else:\n",
    "        criterion = in_criterion\n",
    "        \n",
    "    with mlflow.start_run(nested = True):\n",
    "        \n",
    "        #Create Random Forest model\n",
    "        rfc = RandomForestClassifier(n_estimators=n, criterion=criterion, max_depth = max_depth )\n",
    "        \n",
    "        #Set start time\n",
    "        start_time = time.time()\n",
    "\n",
    "        #Train the model\n",
    "        rfc.fit(X_train,y_train)\n",
    "        \n",
    "        #Calculate elapsed time\n",
    "        elapsed_time = time.time() - start_time\n",
    "\n",
    "        #Predict\n",
    "        predictions = rfc.predict(X_test)\n",
    "        \n",
    "        #Compare prediction to actual data and calculate the accuracy\n",
    "        accuracy = metrics.accuracy_score(y_test, predictions)\n",
    "        precision =  metrics.precision_score(y_test, predictions)\n",
    "        recall = metrics.recall_score(y_true = y_test, y_pred = predictions)\n",
    "        f1_score = metrics.f1_score(y_true = y_test, y_pred = predictions)\n",
    "        \n",
    "         #Log parameter, metrics, and model to MLflow\n",
    "        mlflow.log_param(\"n\", n)\n",
    "        mlflow.log_param(\"criterion\", criterion)\n",
    "        mlflow.log_param(\"max depth\", max_depth)\n",
    "        mlflow.log_metric(\"accuracy\", accuracy)\n",
    "        mlflow.log_metric(\"recall\", recall)\n",
    "        mlflow.log_metric(\"precision\", precision)\n",
    "        mlflow.log_metric('f1', f1_score)\n",
    "        mlflow.log_metric('elapsed time', elapsed_time)\n",
    "        \n",
    "        #Log the model\n",
    "        mlflow.sklearn.log_model(rfc, \"model\")"
   ]
  },
  {
   "cell_type": "code",
   "execution_count": 2,
   "metadata": {},
   "outputs": [],
   "source": [
    "n_list = [2, 5, 10, 20, 50, 100, 500, 1000]\n",
    "criterion_list = [ 'gini', 'entropy']\n",
    "max_depth_list = [ 2, 3, 5, 10, 20, 100]"
   ]
  },
  {
   "cell_type": "code",
   "execution_count": 5,
   "metadata": {},
   "outputs": [],
   "source": [
    "for x in n_list:\n",
    "    for y in criterion_list:\n",
    "        for z in max_depth_list:\n",
    "            train(x, y, z)"
   ]
  },
  {
   "cell_type": "code",
   "execution_count": 6,
   "metadata": {},
   "outputs": [
    {
     "ename": "NameError",
     "evalue": "name 'X' is not defined",
     "output_type": "error",
     "traceback": [
      "\u001b[0;31m---------------------------------------------------------------------------\u001b[0m",
      "\u001b[0;31mNameError\u001b[0m                                 Traceback (most recent call last)",
      "\u001b[0;32m<ipython-input-6-ae5cd47bda90>\u001b[0m in \u001b[0;36m<module>\u001b[0;34m\u001b[0m\n\u001b[0;32m----> 1\u001b[0;31m \u001b[0mX\u001b[0m\u001b[0;34m.\u001b[0m\u001b[0mhead\u001b[0m\u001b[0;34m(\u001b[0m\u001b[0;34m)\u001b[0m\u001b[0;34m\u001b[0m\u001b[0m\n\u001b[0m",
      "\u001b[0;31mNameError\u001b[0m: name 'X' is not defined"
     ]
    }
   ],
   "source": []
  },
  {
   "cell_type": "code",
   "execution_count": null,
   "metadata": {},
   "outputs": [],
   "source": []
  }
 ],
 "metadata": {
  "kernelspec": {
   "display_name": "Python 3",
   "language": "python",
   "name": "python3"
  },
  "language_info": {
   "codemirror_mode": {
    "name": "ipython",
    "version": 3
   },
   "file_extension": ".py",
   "mimetype": "text/x-python",
   "name": "python",
   "nbconvert_exporter": "python",
   "pygments_lexer": "ipython3",
   "version": "3.7.0"
  }
 },
 "nbformat": 4,
 "nbformat_minor": 2
}
