{
 "cells": [
  {
   "cell_type": "code",
   "execution_count": 2,
   "metadata": {},
   "outputs": [],
   "source": [
    "def train(in_n):\n",
    "    #All the imports\n",
    "    import pandas as pd\n",
    "    import numpy as np\n",
    "    from sklearn.model_selection import train_test_split\n",
    "    from sklearn.preprocessing import StandardScaler\n",
    "    from sklearn.neighbors import KNeighborsClassifier\n",
    "    from sklearn.metrics import recall_score, precision_score, f1_score\n",
    "    from sklearn.datasets import load_iris\n",
    "    from sklearn import metrics\n",
    "    \n",
    "    import mlflow\n",
    "    import mlflow.sklearn\n",
    "    \n",
    "    #Get the data\n",
    "    iris = load_iris()\n",
    "    X = iris.data\n",
    "    y = iris.target\n",
    "    \n",
    "    #Standadize variables\n",
    "    scaler = StandardScaler()\n",
    "    scaler.fit(X)\n",
    "    X_scaled = scaler.transform(X)\n",
    "    X_train, X_test, y_train, y_test = train_test_split(X_scaled, y, test_size=0.33, random_state=42)\n",
    "\n",
    "    # Set default values if no n is provided\n",
    "    if float(in_n) is None:\n",
    "        n = 1\n",
    "    else:\n",
    "        n = float(in_n)\n",
    "    \n",
    "    with mlflow.start_run():\n",
    "        #Create model and train it\n",
    "        knn = KNeighborsClassifier(in_n)\n",
    "        knn.fit(X_train,y_train)\n",
    "\n",
    "        #Use test data to predict\n",
    "        predictions = knn.predict(X_test)\n",
    "\n",
    "        #Compare prediction to actual data and calculate the accuracy\n",
    "        accuracy = metrics.accuracy_score(y_test, predictions)\n",
    "        #rs = recall_score(y_test, predictions)\n",
    "        #ps = precision_score(y_test, predictions)\n",
    "        #f1 = f1_score(y_test, predictions)\n",
    "        \n",
    "        #Log parameter, metrics, and model to MLflow\n",
    "        mlflow.log_param(\"n\", n)\n",
    "        mlflow.log_metric(\"accuracy\", accuracy)\n",
    "        \n",
    "        #Log the model\n",
    "        mlflow.sklearn.log_model(knn, \"model\")"
   ]
  },
  {
   "cell_type": "code",
   "execution_count": 3,
   "metadata": {},
   "outputs": [],
   "source": [
    "for i in range (1,40):\n",
    "    train(i)"
   ]
  },
  {
   "cell_type": "code",
   "execution_count": null,
   "metadata": {},
   "outputs": [],
   "source": []
  }
 ],
 "metadata": {
  "kernelspec": {
   "display_name": "Python 3",
   "language": "python",
   "name": "python3"
  },
  "language_info": {
   "codemirror_mode": {
    "name": "ipython",
    "version": 3
   },
   "file_extension": ".py",
   "mimetype": "text/x-python",
   "name": "python",
   "nbconvert_exporter": "python",
   "pygments_lexer": "ipython3",
   "version": "3.7.0"
  }
 },
 "nbformat": 4,
 "nbformat_minor": 2
}
